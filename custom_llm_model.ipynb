{
  "cells": [
    {
      "cell_type": "markdown",
      "metadata": {
        "id": "iTp7lUCWvXxE"
      },
      "source": [
        "# Train a Large Language Model from Scratch with a Custom Dataset and a Custom Tokenizer"
      ]
    },
    {
      "cell_type": "markdown",
      "metadata": {
        "id": "r7x8cxRFzriU"
      },
      "source": [
        "# PARTS"
      ]
    },
    {
      "cell_type": "markdown",
      "metadata": {
        "id": "QfWuNshCzriV"
      },
      "source": [
        "* **PART A:** Transform our dataset from data in CSV Format\n",
        "* **PART B:** Tokenization: Use a Pre-trained Tokenizer or Train a New Tokenizer from scratch?\n",
        "* **PART C:** Build a Hugging Face Data Pipeline\n",
        "* **PART D:** Train a Hugging Face Causal Language Model (Transformer) from scratch\n",
        "* **PART E:** Generate Reviews with a Hugging Face Text Generation Pipeline"
      ]
    },
    {
      "cell_type": "markdown",
      "metadata": {
        "id": "Fv8Y9pDUzriX"
      },
      "source": [
        "# **Part A:** Transform a Hugging Face Dataset from Data in CSV Format"
      ]
    },
    {
      "cell_type": "markdown",
      "metadata": {
        "id": "_pk_DETIzriX"
      },
      "source": [
        "## Install Generic Libraries"
      ]
    },
    {
      "cell_type": "code",
      "execution_count": null,
      "metadata": {
        "id": "IktHD_lB2Byd"
      },
      "outputs": [],
      "source": [
        "import os\n",
        "import re\n",
        "import tensorflow as tf"
      ]
    },
    {
      "cell_type": "markdown",
      "metadata": {
        "id": "QBKfusHizria"
      },
      "source": [
        "* Record Each Cell's Execution Time"
      ]
    },
    {
      "cell_type": "code",
      "execution_count": null,
      "metadata": {
        "id": "pPKmH0QFzrib"
      },
      "outputs": [],
      "source": [
        "!pip install ipython-autotime\n",
        "%load_ext autotime"
      ]
    },
    {
      "cell_type": "markdown",
      "metadata": {
        "id": "qLNlvwZLvXxf"
      },
      "source": [
        "## Install the Transformers and Datasets libraries"
      ]
    },
    {
      "cell_type": "code",
      "execution_count": null,
      "metadata": {
        "id": "GL-G49ghvXxj"
      },
      "outputs": [],
      "source": [
        "!pip install datasets transformers"
      ]
    },
    {
      "cell_type": "markdown",
      "metadata": {
        "id": "ZQUcMQCKzrid"
      },
      "source": [
        "## Install git-lfs"
      ]
    },
    {
      "cell_type": "markdown",
      "metadata": {
        "id": "JyDLFu0_zrie"
      },
      "source": [
        "***Git Large File Storage (LFS)*** replaces large files such as audio samples, videos, datasets, and graphics with text pointers inside Git, while storing the file contents on a remote server like GitHub.com or Hugging Face.\n",
        "\n",
        "For more information, refer to https://git-lfs.github.com/\n",
        "\n",
        "* For local machines, install git-lfs as below."
      ]
    },
    {
      "cell_type": "code",
      "execution_count": null,
      "metadata": {
        "id": "MFlO7i3czrie"
      },
      "outputs": [],
      "source": [
        "!apt install git-lfs"
      ]
    },
    {
      "cell_type": "markdown",
      "metadata": {
        "id": "QMyVOeM0zrif"
      },
      "source": [
        "* For Jupyter Notebooks, install git-lfs as below:"
      ]
    },
    {
      "cell_type": "code",
      "execution_count": null,
      "metadata": {
        "id": "nnVKJr1Xzrif"
      },
      "outputs": [],
      "source": [
        "#!conda install -c conda-forge git-lfs -y"
      ]
    },
    {
      "cell_type": "markdown",
      "metadata": {
        "id": "PHBFDTSyzrig"
      },
      "source": [
        "* Initialize Git LFS:"
      ]
    },
    {
      "cell_type": "code",
      "execution_count": null,
      "metadata": {
        "id": "bFma4K1vzrig"
      },
      "outputs": [],
      "source": [
        "!git lfs install"
      ]
    },
    {
      "cell_type": "markdown",
      "metadata": {
        "id": "yW8qdCOzvXxp"
      },
      "source": [
        "## Set up Git account\n",
        "You will need to setup git, adapt your email and name in the following cell."
      ]
    },
    {
      "cell_type": "code",
      "execution_count": null,
      "metadata": {
        "id": "yOSFpguWvXxr"
      },
      "outputs": [],
      "source": [
        "!git config --global user.email \"1800002666@stu.iku.edu.tr\"\n",
        "!git config --global user.name \"ahmetcangunay\""
      ]
    },
    {
      "cell_type": "markdown",
      "metadata": {
        "id": "xWvoxh-_vXxu"
      },
      "source": [
        "## Log in to Hugging Face Hub\n",
        "You will also need to be logged in to the Hugging Face Hub. Therefore, first create an account the Hugging Face Hub and then execute the following command and enter your credentials."
      ]
    },
    {
      "cell_type": "code",
      "source": [
        "!git config --global credential.helper store"
      ],
      "metadata": {
        "id": "Ye4rhuinN5yN"
      },
      "execution_count": null,
      "outputs": []
    },
    {
      "cell_type": "markdown",
      "source": [
        "In This part, we should use Access Token with \"Write\" permission."
      ],
      "metadata": {
        "id": "df66paXuja4k"
      }
    },
    {
      "cell_type": "code",
      "execution_count": null,
      "metadata": {
        "id": "qHKfEbwovXxw"
      },
      "outputs": [],
      "source": [
        "from huggingface_hub import notebook_login\n",
        "notebook_login()"
      ]
    },
    {
      "cell_type": "markdown",
      "metadata": {
        "id": "lWfi1WWkzrij"
      },
      "source": [
        "# Prepare a Custom Dataset"
      ]
    },
    {
      "cell_type": "markdown",
      "metadata": {
        "id": "k4JA5rzpvrOO"
      },
      "source": [
        "## Load the custom dataset"
      ]
    },
    {
      "cell_type": "markdown",
      "metadata": {
        "id": "k3GbTldYzrik"
      },
      "source": [
        "Then, let's define the data directory and provide the data file name:"
      ]
    },
    {
      "cell_type": "code",
      "execution_count": null,
      "metadata": {
        "id": "lFMKZ0T5wa9p"
      },
      "outputs": [],
      "source": [
        "path = r\"E:\\Corpus_Project\\datasets_final\\finished-corpus-as-text\""
      ]
    },
    {
      "cell_type": "markdown",
      "metadata": {
        "id": "LqnbnLcezril"
      },
      "source": [
        "Let's use the ```load_dataset()``` method  from the Hugging Face ```datasets``` library.\n"
      ]
    },
    {
      "cell_type": "code",
      "execution_count": null,
      "metadata": {
        "id": "aIgq5dg-TDfF"
      },
      "outputs": [],
      "source": [
        "from datasets import load_dataset\n",
        "dataset = load_dataset(\"text\", data_files= path)"
      ]
    },
    {
      "cell_type": "markdown",
      "source": [
        "### Upload Dataset to HuggingFace"
      ],
      "metadata": {
        "id": "o2cphQK2fb8x"
      }
    },
    {
      "cell_type": "code",
      "source": [
        "# If you would like to upload your dataset to HuggingFace, you could use this code snippet.\n",
        "from huggingface_hub import HfApi\n",
        "api = HfApi()"
      ],
      "metadata": {
        "id": "F26yJFTKnS0A"
      },
      "execution_count": null,
      "outputs": []
    },
    {
      "cell_type": "code",
      "source": [
        "# Load all txt files\n",
        "\n",
        "api.upload_folder(\n",
        "    folder_path= path,\n",
        "    repo_id=\"ahmet1338/trained-model\",\n",
        "    path_in_repo=\"experiment/texts/\",\n",
        "    allow_patterns=\"*.txt\", # Upload all local text files\n",
        ")"
      ],
      "metadata": {
        "id": "NnsqJNS_nO62"
      },
      "execution_count": null,
      "outputs": []
    },
    {
      "cell_type": "markdown",
      "metadata": {
        "id": "FTSz47i8zril"
      },
      "source": [
        "### Check out the loaded dataset structure:"
      ]
    },
    {
      "cell_type": "code",
      "execution_count": null,
      "metadata": {
        "id": "5doQKiKWUAIK"
      },
      "outputs": [],
      "source": [
        "dataset"
      ]
    },
    {
      "cell_type": "markdown",
      "metadata": {
        "id": "ePFQvrMuzrim"
      },
      "source": [
        "Peek at the first few examples:"
      ]
    },
    {
      "cell_type": "code",
      "execution_count": null,
      "metadata": {
        "id": "xZiTgoo0Uy_W"
      },
      "outputs": [],
      "source": [
        "dataset['train'][:2]"
      ]
    },
    {
      "cell_type": "markdown",
      "metadata": {
        "id": "K-flORBjzrit"
      },
      "source": [
        "## Preprocess the dataset"
      ]
    },
    {
      "cell_type": "markdown",
      "metadata": {
        "id": "_Uzk7uw8XzdN"
      },
      "source": [
        "Let’s define a simple function that counts the number of words in each text:"
      ]
    },
    {
      "cell_type": "code",
      "execution_count": null,
      "metadata": {
        "id": "ru4qHloyVSr2"
      },
      "outputs": [],
      "source": [
        "def compute_sentence_length(example):\n",
        "    return {\"sentence_length\": len(example[\"text\"].split())}"
      ]
    },
    {
      "cell_type": "markdown",
      "metadata": {
        "id": "DfcDLQxIY05W"
      },
      "source": [
        "When ```compute_sentence_length()``` is passed to ```Dataset.map()```, it will be applied to all the rows in the dataset to create a new ```sentence_length``` column:"
      ]
    },
    {
      "cell_type": "code",
      "execution_count": null,
      "metadata": {
        "id": "g7Qe3zWNYq_8"
      },
      "outputs": [],
      "source": [
        "dataset = dataset.map(compute_sentence_length)\n",
        "# Inspect the first training example\n",
        "dataset[0]"
      ]
    },
    {
      "cell_type": "markdown",
      "metadata": {
        "id": "TgyvUU2lZLGr"
      },
      "source": [
        "As expected, we can see a ```sentence_length``` column has been added to our training set. We can sort this new column with ```Dataset.sort()``` to see what the extreme values look like:"
      ]
    },
    {
      "cell_type": "code",
      "execution_count": null,
      "metadata": {
        "id": "GoHwg1y2ZMdJ"
      },
      "outputs": [],
      "source": [
        "dataset.sort(\"sentence_length\")[:3]"
      ]
    },
    {
      "cell_type": "markdown",
      "metadata": {
        "id": "nm_XjiYRZmXP"
      },
      "source": [
        "As we suspected, some texts contain just a few words, which, although it may be okay for sentiment analysis, would not be informative if we want to train or fine tune a causal language model.\n",
        "\n",
        "Let’s use the ```Dataset.filter()``` function to remove texts that contain fewer than 30 words."
      ]
    },
    {
      "cell_type": "code",
      "execution_count": null,
      "metadata": {
        "id": "1HUMk-HDZlx9"
      },
      "outputs": [],
      "source": [
        "dataset = dataset.filter(lambda x: x[\"sentence_length\"] > 30)\n",
        "print(dataset.num_rows)"
      ]
    },
    {
      "cell_type": "markdown",
      "metadata": {
        "id": "wjxBC7yTaHcD"
      },
      "source": [
        "As you can see, this has removed some of the texts from our original dataset.\n",
        "\n",
        "Moreover, if you noticed that most of the texts end with the string \"...Devamını oku\" which means \"...Read more\"."
      ]
    },
    {
      "cell_type": "code",
      "execution_count": null,
      "metadata": {
        "id": "ktLymXB2zrix"
      },
      "outputs": [],
      "source": [
        "dataset[:3]"
      ]
    },
    {
      "cell_type": "markdown",
      "metadata": {
        "id": "RKK9aXLSzrix"
      },
      "source": [
        "Also, notice that each text has actually a title which is the first statement until a comma and double quotation mark: ***,\"***\n",
        "We would like to replace these punctuations with a full stop.\n",
        "Thus, we would like to remove these repeating strings as below:"
      ]
    },
    {
      "cell_type": "code",
      "execution_count": null,
      "metadata": {
        "id": "gGzETNuRzriy"
      },
      "outputs": [],
      "source": [
        "def remove_repeated(example):\n",
        "    example[\"text\"] = example[\"text\"].replace('...', '')\n",
        "    example[\"text\"] = example[\"text\"].replace(',\"', '. ')\n",
        "    example[\"text\"] = example[\"text\"].replace('!.', '.')\n",
        "    example[\"text\"] = example[\"text\"].replace('!,', '. ')\n",
        "    example[\"text\"] = example[\"text\"].replace('\"', '')\n",
        "    example[\"text\"] = re.sub('([a-zA-Z0-9zığüşöçZİĞÜŞÖÇ]),([a-zA-Z0-9zığüşöçZİĞÜŞÖÇ])', '\\\\1. \\\\2', example[\"text\"])\n",
        "\n",
        "    return {\"text\": example[\"text\"].replace('Devamını oku', '')}"
      ]
    },
    {
      "cell_type": "markdown",
      "metadata": {
        "id": "72yuG044zriy"
      },
      "source": [
        "Let's apply this function onto the dataset and inspect the first three training example:"
      ]
    },
    {
      "cell_type": "code",
      "execution_count": null,
      "metadata": {
        "id": "ST2OolqLzriy"
      },
      "outputs": [],
      "source": [
        "dataset = dataset.map(remove_repeated)\n",
        "dataset[:3]"
      ]
    },
    {
      "cell_type": "markdown",
      "metadata": {
        "id": "n2w2GxmpcEdR"
      },
      "source": [
        "## Creating a validation set\n",
        "🤗 Datasets provides a ```Dataset.train_test_split()``` function that is based on the famous functionality from ```scikit-learn```. Let’s use it to split our training set into train and validation splits (we set the seed argument for reproducibility):"
      ]
    },
    {
      "cell_type": "code",
      "execution_count": null,
      "metadata": {
        "id": "xGr8qlMScPOj"
      },
      "outputs": [],
      "source": [
        "dataset = dataset.train_test_split(train_size=0.9, seed=42)\n",
        "# Rename the default \"test\" split to \"validation\"\n",
        "dataset[\"validation\"] = dataset.pop(\"test\")\n",
        "\n",
        "dataset"
      ]
    },
    {
      "cell_type": "code",
      "execution_count": null,
      "metadata": {
        "id": "S2Pacy4QvXyT"
      },
      "outputs": [],
      "source": [
        "for key in dataset[\"train\"][0]:\n",
        "    print(f\"{key.upper()}: {dataset['train'][0][key]}\")"
      ]
    },
    {
      "cell_type": "markdown",
      "metadata": {
        "id": "kN0agTcxzriz"
      },
      "source": [
        "## Share the dataset to the Hub"
      ]
    },
    {
      "cell_type": "markdown",
      "metadata": {
        "id": "dmBa5ePFzriz"
      },
      "source": [
        "Use the ```push_to_hub()``` function to help you add, commit, and push a file to your repository:"
      ]
    },
    {
      "cell_type": "code",
      "execution_count": null,
      "metadata": {
        "id": "67pW-Aonzriz"
      },
      "outputs": [],
      "source": [
        "dataset.push_to_hub(\"ahmet1338/turkish_corpus\")"
      ]
    },
    {
      "cell_type": "code",
      "execution_count": null,
      "metadata": {
        "id": "QqQKKvNIzri0"
      },
      "outputs": [],
      "source": [
        "downloaded_dataset = load_dataset(\"ahmet1338/turkish_corpus\")\n",
        "downloaded_dataset"
      ]
    },
    {
      "cell_type": "markdown",
      "metadata": {
        "id": "vVj63ag_zri0"
      },
      "source": [
        "# **PART B:** 🤗 Hugging Face Tokenization: Use a Pre-trained Tokenizer or Train a New Tokenizer from scratch?"
      ]
    },
    {
      "cell_type": "markdown",
      "metadata": {
        "id": "0T9G6Kvo0i3e"
      },
      "source": [
        "For Tokenezation, we will use two different approaches:\n",
        "* Use a pretrained tokenization\n",
        "* Train a new tokenizer"
      ]
    },
    {
      "cell_type": "markdown",
      "metadata": {
        "id": "4-uJ-OMZzri0"
      },
      "source": [
        "### Use a pretrained tokenization (I applied pretrained tokenization, but I could not achieve the results I wanted. So you can skip this part or experiment on it.)\n"
      ]
    },
    {
      "cell_type": "markdown",
      "metadata": {
        "id": "ndPRHhQc08qL"
      },
      "source": [
        "Let’s see exactly how this works by looking at the first two examples:"
      ]
    },
    {
      "cell_type": "code",
      "execution_count": null,
      "metadata": {
        "id": "zxYCCJVZvXyb"
      },
      "outputs": [],
      "source": [
        "from transformers import AutoTokenizer\n",
        "\n",
        "context_length = 40 # It may also leave blank to tske whole sentence.\n",
        "pretrained_tokenizer = AutoTokenizer.from_pretrained(\"redrussianarmy/gpt2-turkish-cased\")\n",
        "\n",
        "outputs = pretrained_tokenizer(\n",
        "    dataset[\"train\"][:2][\"text\"],\n",
        "    truncation=True,\n",
        "    max_length=context_length,\n",
        "    return_overflowing_tokens=False,\n",
        "    return_length=True,\n",
        ")\n",
        "\n",
        "print(f\"Input IDs length: {len(outputs['input_ids'])}\")\n",
        "print(f\"Input chunk lengths: {(outputs['length'])}\")\n",
        "#print(f\"Chunk mapping: {outputs['overflow_to_sample_mapping']}\")"
      ]
    },
    {
      "cell_type": "markdown",
      "metadata": {
        "id": "49DZ9ov51D9P"
      },
      "source": [
        "We can see that we get 6 **segments** in total from those two examples. Looking at the chunk lengths, we can see that the chunks at the ends of both documents have less than 40 tokens (1 and 7, respectively). These represent just a small fraction of the total chunks that we have, so we can safely throw them away. With the ```overflow_to_sample_mapping``` field, we can also reconstruct which chunks belonged to which input samples."
      ]
    },
    {
      "cell_type": "code",
      "execution_count": null,
      "metadata": {
        "id": "i7X1FAuS3gos"
      },
      "outputs": [],
      "source": [
        "print(\"vocab_size: \", len(pretrained_tokenizer))"
      ]
    },
    {
      "cell_type": "markdown",
      "metadata": {
        "id": "I1Slnt-Zzri2"
      },
      "source": [
        "Let's observe the generated tokend for a given string.\n",
        "\n",
        "**Notice that** there are almost 10 words in the string however the number of the generated tokens is many more!\n",
        "\n",
        "I will explain why it happens like this with the below example:"
      ]
    },
    {
      "cell_type": "code",
      "execution_count": null,
      "metadata": {
        "id": "_CaQzd9izri2"
      },
      "outputs": [],
      "source": [
        "txt = \"Düşenin dostu olmaz derler kimileri. Sanki ayakta olanın dostu çokmuş gibi.\" # Cemal Süreya\n",
        "tokens = pretrained_tokenizer(txt)['input_ids']\n",
        "print(tokens)"
      ]
    },
    {
      "cell_type": "markdown",
      "metadata": {
        "id": "F99pFf1Izri3"
      },
      "source": [
        "We can convert back the tokens to strings:"
      ]
    },
    {
      "cell_type": "code",
      "execution_count": null,
      "metadata": {
        "id": "KHKB_oa0zri3"
      },
      "outputs": [],
      "source": [
        "converted = pretrained_tokenizer.convert_ids_to_tokens(tokens)\n",
        "print(converted)"
      ]
    },
    {
      "cell_type": "markdown",
      "metadata": {
        "id": "p9FLQRdWzri3"
      },
      "source": [
        "### Train a new tokenizer"
      ]
    },
    {
      "cell_type": "markdown",
      "metadata": {
        "id": "MD3FvG5Czri3"
      },
      "source": [
        "As suggested in the [official documentation](https://huggingface.co/course/chapter6/2?fw=pt), if a language model is not available in the language you are interested in, or if your corpus is very different from the one your language model was trained on, you will most likely want to retrain the model from scratch using a tokenizer adapted to your data. That will require training a new tokenizer on your dataset."
      ]
    },
    {
      "cell_type": "markdown",
      "metadata": {
        "id": "Q_i_JcUWzri4"
      },
      "source": [
        "#### Create a data generator:"
      ]
    },
    {
      "cell_type": "markdown",
      "metadata": {
        "id": "Cu9neUwVzri4"
      },
      "source": [
        "\n",
        "\n",
        "Using a Python generator, we can avoid Python loading anything into memory until it’s actually necessary.\n",
        "\n",
        "The below generator will yield a ***batch*** of texts from the dataset at each request."
      ]
    },
    {
      "cell_type": "code",
      "execution_count": null,
      "metadata": {
        "id": "fHpmYxGizri4"
      },
      "outputs": [],
      "source": [
        "def get_training_corpus():\n",
        "    batch_size = 1000\n",
        "    return (\n",
        "        dataset[\"train\"][i : i + batch_size][\"text\"]\n",
        "        for i in range(0, len(dataset[\"train\"]), batch_size)\n",
        "    )\n",
        "training_corpus = get_training_corpus()"
      ]
    },
    {
      "cell_type": "markdown",
      "metadata": {
        "id": "bmEpIksHzri4"
      },
      "source": [
        "Observe the ***size*** of the generator outputs below"
      ]
    },
    {
      "cell_type": "code",
      "execution_count": null,
      "metadata": {
        "id": "48BJ-rBgzri5"
      },
      "outputs": [],
      "source": [
        "for texts in get_training_corpus():\n",
        "    print(len(texts))"
      ]
    },
    {
      "cell_type": "markdown",
      "metadata": {
        "id": "NWnZnVeFzri5"
      },
      "source": [
        "#### Training a new tokenizer:\n",
        "\n"
      ]
    },
    {
      "cell_type": "markdown",
      "metadata": {
        "id": "EOdFPFq1zri5"
      },
      "source": [
        "Now that we have our corpus in the form of an ***iterator of batches*** of texts, we are ready to train a new tokenizer. To do this, we first need to load the tokenizer we want to pair with our model (here, GPT-2).\n",
        "\n",
        "***Note 1:*** Even though we are going to train a new tokenizer, it’s a good idea to do this to avoid starting entirely from scratch. This way, we won’t have to specify anything about the tokenization algorithm or the special tokens we want to use; our new tokenizer will be exactly the same as GPT-2, and the only thing that will change is the vocabulary, which will be determined by the training on our corpus.\n",
        "\n",
        "For this, we’ll use the method ```train_new_from_iterator()``` as below.\n",
        "\n",
        "**Note 2:** This command might take a bit of time if your corpus is very large. Therefore, be patient or for experiment reasons use a small sample from the dataset."
      ]
    },
    {
      "cell_type": "code",
      "execution_count": null,
      "metadata": {
        "id": "YTlLbhxhzri5"
      },
      "outputs": [],
      "source": [
        "vocab_size = 52000\n",
        "tokenizer = pretrained_tokenizer.train_new_from_iterator(training_corpus,vocab_size)"
      ]
    },
    {
      "cell_type": "code",
      "execution_count": null,
      "metadata": {
        "id": "iDmWJXaWzri6"
      },
      "outputs": [],
      "source": [
        "tokenizer.eos_token_id"
      ]
    },
    {
      "cell_type": "code",
      "execution_count": null,
      "metadata": {
        "id": "4Saq027Szri7"
      },
      "outputs": [],
      "source": [
        "tokenizer.vocab_size"
      ]
    },
    {
      "cell_type": "markdown",
      "metadata": {
        "id": "Ah_CSZUdzri7"
      },
      "source": [
        "Let’s try our brand new tokenizer on the previous example:"
      ]
    },
    {
      "cell_type": "code",
      "execution_count": null,
      "metadata": {
        "id": "1bE-w8Tazri7"
      },
      "outputs": [],
      "source": [
        "txt = \"Düşenin dostu olmaz derler kimileri. Sanki ayakta olanın dostu çokmuş gibi.\" # Cemal Süreya\n",
        "tokens = tokenizer(txt)['input_ids']\n",
        "print(tokens)"
      ]
    },
    {
      "cell_type": "code",
      "execution_count": null,
      "metadata": {
        "id": "8qedmxZAzri7"
      },
      "outputs": [],
      "source": [
        "converted = tokenizer.convert_ids_to_tokens(tokens)\n",
        "print(converted)"
      ]
    },
    {
      "cell_type": "code",
      "execution_count": null,
      "metadata": {
        "id": "lAzY-scwzri8"
      },
      "outputs": [],
      "source": [
        "print(len(tokenizer.tokenize(txt)))\n",
        "print(len(pretrained_tokenizer.tokenize(txt)))"
      ]
    },
    {
      "cell_type": "markdown",
      "metadata": {
        "id": "wfzQ5pPazri8"
      },
      "source": [
        "#### Saving the tokenizer:\n"
      ]
    },
    {
      "cell_type": "markdown",
      "metadata": {
        "id": "xB_NkRPVzri8"
      },
      "source": [
        "To make sure we can use it later, we need to save our new tokenizer. Like for models, this is done with the ```save_pretrained()``` method:\n"
      ]
    },
    {
      "cell_type": "code",
      "execution_count": null,
      "metadata": {
        "id": "vdPDWBm2zri9"
      },
      "outputs": [],
      "source": [
        "path=\"./\"\n",
        "file_name=\"gpt_2_tokenizer_experimental\"\n",
        "tokenizer.save_pretrained(path+file_name)"
      ]
    },
    {
      "cell_type": "code",
      "execution_count": null,
      "metadata": {
        "id": "cfPzue_Wzri9"
      },
      "outputs": [],
      "source": [
        "loaded_tokenizer = AutoTokenizer.from_pretrained(\"./gpt_2_tokenizer_experimental\")"
      ]
    },
    {
      "cell_type": "code",
      "execution_count": null,
      "metadata": {
        "id": "81-9k4ISzri9"
      },
      "outputs": [],
      "source": [
        "txt = \"Düşenin dostu olmaz derler kimileri. Sanki ayakta olanın dostu çokmuş gibi.\" # Cemal Süreya\n",
        "tokens = tokenizer(txt)['input_ids']\n",
        "print(\"trained tokenizer:\", tokens)\n",
        "tokens = loaded_tokenizer(txt)['input_ids']\n",
        "print(\"loaded tokenizer:\", tokens)"
      ]
    },
    {
      "cell_type": "markdown",
      "metadata": {
        "id": "VTOfzzexzri-"
      },
      "source": [
        "This will create a new local folder named ```gpt_2_tokenizer_experimental```, which will contain all the files the tokenizer needs to be reloaded.\n",
        "\n"
      ]
    },
    {
      "cell_type": "markdown",
      "metadata": {
        "id": "laAHgFdfzri-"
      },
      "source": [
        "#### Push the tokenizer to Hugging Face Hub"
      ]
    },
    {
      "cell_type": "markdown",
      "metadata": {
        "id": "E2GgpMmvzri-"
      },
      "source": [
        "If you want to share this tokenizer with your colleagues and friends, you can upload it to the Hub by logging into your account. If you’re working in a notebook, there’s a convenience function to help you with this:"
      ]
    },
    {
      "cell_type": "code",
      "execution_count": null,
      "metadata": {
        "id": "z-XKXODezri-"
      },
      "outputs": [],
      "source": [
        "from huggingface_hub import notebook_login\n",
        "\n",
        "notebook_login()"
      ]
    },
    {
      "cell_type": "markdown",
      "metadata": {
        "id": "5RzvrXL4zri_"
      },
      "source": [
        "The below ```push_to_hub()``` method  will create a new repository in your namespace at the 🤗 Hugging Face hub with the name ***turkishReviews-ds***, containing the tokenizer file."
      ]
    },
    {
      "cell_type": "code",
      "execution_count": null,
      "metadata": {
        "id": "s0NGuXGvzri_"
      },
      "outputs": [],
      "source": [
        "os.environ[\"TOKENIZERS_PARALLELISM\"] = \"false\"\n",
        "tokenizer.push_to_hub(\"ahmet1338/gpt-2-experimental\")"
      ]
    },
    {
      "cell_type": "markdown",
      "metadata": {
        "id": "-Go-7BmRzri_"
      },
      "source": [
        "You can then load the tokenizer from anywhere with the from_pretrained() method:"
      ]
    },
    {
      "cell_type": "code",
      "execution_count": null,
      "metadata": {
        "id": "HNlt1t2fzri_"
      },
      "outputs": [],
      "source": [
        "downloaded_tokenizer = AutoTokenizer.from_pretrained(\"ahmet1338/gpt-2-experimental\")"
      ]
    },
    {
      "cell_type": "markdown",
      "metadata": {
        "id": "f0HPYg9UzrjA"
      },
      "source": [
        "We can observe that the trained , loaded, and downloaded tokenizers generate the same sequence of tokens:"
      ]
    },
    {
      "cell_type": "code",
      "execution_count": null,
      "metadata": {
        "id": "75VwhUC_zrjA"
      },
      "outputs": [],
      "source": [
        "txt = \"Düşenin dostu olmaz derler kimileri. Sanki ayakta olanın dostu çokmuş gibi.\" # Cemal Süreya\n",
        "tokens = tokenizer(txt)['input_ids']\n",
        "print(\"trained tokenizer:\", tokens)\n",
        "tokens = loaded_tokenizer(txt)['input_ids']\n",
        "print(\"loaded tokenizer:\", tokens)\n",
        "tokens = downloaded_tokenizer(txt)['input_ids']\n",
        "print(\"downloaded tokenizer:\", tokens)"
      ]
    },
    {
      "cell_type": "markdown",
      "metadata": {
        "id": "AK_5cJURzrjA"
      },
      "source": [
        "# **PART C:** Build a Hugging Face Data Pipeline"
      ]
    },
    {
      "cell_type": "markdown",
      "metadata": {
        "id": "aSaenkQHzrjA"
      },
      "source": [
        "### Tokenize the dataset"
      ]
    },
    {
      "cell_type": "markdown",
      "metadata": {
        "id": "n9GOGSpGzrjA"
      },
      "source": [
        "Since we have ***configured and trained*** the tokenizer in **Part B**, now we are ready to ***tokenize*** the dataset.\n",
        "\n",
        "For this reason,\n",
        "* we will first define a function to tokenize each sample as below.\n",
        "\n",
        "* Then, we will apply (map) this function onto every samples in the dataset.\n",
        "\n",
        "At the end, we will have a dataset consist of ***tokens***."
      ]
    },
    {
      "cell_type": "code",
      "execution_count": null,
      "metadata": {
        "id": "RYZ2-EvbvXyg"
      },
      "outputs": [],
      "source": [
        "def tokenize(element):\n",
        "    outputs = tokenizer(\n",
        "        element[\"text\"],\n",
        "        truncation=True,\n",
        "        max_length=context_length,\n",
        "        return_overflowing_tokens=False,\n",
        "        return_length=True,\n",
        "    )\n",
        "    input_batch = []\n",
        "    for length, input_ids in zip(outputs[\"length\"], outputs[\"input_ids\"]):\n",
        "        if length == context_length:\n",
        "            input_batch.append(input_ids)\n",
        "    return {\"input_ids\": input_batch}\n",
        "\n",
        "\n",
        "tokenized_datasets = dataset.map(\n",
        "    tokenize, batched=True, remove_columns=dataset[\"train\"].column_names\n",
        ")\n",
        "tokenized_datasets"
      ]
    },
    {
      "cell_type": "markdown",
      "metadata": {
        "id": "OIFOYawHzrjB"
      },
      "source": [
        "### Data Collator"
      ]
    },
    {
      "cell_type": "markdown",
      "metadata": {
        "id": "uGgPDd6azrjC"
      },
      "source": [
        "Before we can start training, we need to set up a **data collator** that will take care of creating the batches. We can use the ```DataCollatorForLanguageModeling``` collator, which is designed specifically for language modeling (as the name subtly suggests)"
      ]
    },
    {
      "cell_type": "code",
      "execution_count": null,
      "metadata": {
        "id": "tj7PWJZGzrjC"
      },
      "outputs": [],
      "source": [
        "from transformers import DataCollatorForLanguageModeling\n",
        "\n",
        "tokenizer.pad_token = tokenizer.eos_token\n",
        "data_collator = DataCollatorForLanguageModeling(tokenizer, mlm=False, return_tensors=\"tf\")"
      ]
    },
    {
      "cell_type": "markdown",
      "metadata": {
        "id": "c4kL-zdbzrjC"
      },
      "source": [
        "Let’s have a look at an example:"
      ]
    },
    {
      "cell_type": "code",
      "execution_count": null,
      "metadata": {
        "id": "QHbXw-WczrjC"
      },
      "outputs": [],
      "source": [
        "out = data_collator([tokenized_datasets[\"train\"][i] for i in range(5)])\n",
        "for key in out:\n",
        "    print(f\"{key} shape: {out[key].shape}\")"
      ]
    },
    {
      "cell_type": "markdown",
      "metadata": {
        "id": "9nTaSq-YzrjD"
      },
      "source": [
        "We can see that the examples have been stacked and all the tensors have the same shape.\n",
        "\n",
        "NOTE: Shifting the inputs and labels to align them happens inside the **model**, so the **data collator** just ***copies*** the ***inputs*** to create the ***labels***. Below, notice that input and labels are the ***same*** for a sample:\n",
        "\n"
      ]
    },
    {
      "cell_type": "code",
      "source": [
        "for key in out:\n",
        "    print(f\"{key}: {out[key][0]}\")"
      ],
      "metadata": {
        "id": "x58mkLJMDf9J"
      },
      "execution_count": null,
      "outputs": []
    },
    {
      "cell_type": "markdown",
      "metadata": {
        "id": "AryzPC9IzrjD"
      },
      "source": [
        "### Convert from Hugging Face Dataset to TensorFlow Dataset"
      ]
    },
    {
      "cell_type": "markdown",
      "metadata": {
        "id": "Ho2zZDGIzrjD"
      },
      "source": [
        "Now we can use the ```to_tf_dataset()``` method to convert our datasets to TensorFlow datasets with the data collator we created above:"
      ]
    },
    {
      "cell_type": "code",
      "execution_count": null,
      "metadata": {
        "id": "WVXgpwS7zrjE"
      },
      "outputs": [],
      "source": [
        "tf_train_dataset = tokenized_datasets[\"train\"].to_tf_dataset(\n",
        "    columns=[\"input_ids\", \"attention_mask\", \"labels\"],\n",
        "    collate_fn=data_collator,\n",
        "    shuffle=True,\n",
        "    batch_size=32,\n",
        ")\n",
        "tf_eval_dataset = tokenized_datasets[\"validation\"].to_tf_dataset(\n",
        "    columns=[\"input_ids\", \"attention_mask\", \"labels\"],\n",
        "    collate_fn=data_collator,\n",
        "    shuffle=False,\n",
        "    batch_size=32,\n",
        ")"
      ]
    },
    {
      "cell_type": "markdown",
      "metadata": {
        "id": "VSXOYJXPzrjE"
      },
      "source": [
        "We can observe the number of batches in the train dataset:"
      ]
    },
    {
      "cell_type": "code",
      "execution_count": null,
      "metadata": {
        "id": "fD0nxp4SzrjF"
      },
      "outputs": [],
      "source": [
        "len(tf_train_dataset)"
      ]
    },
    {
      "cell_type": "markdown",
      "metadata": {
        "id": "Rs4z4bto2qAh"
      },
      "source": [
        "Now that we have the **data pipeline** ready, let’s set up the model!"
      ]
    },
    {
      "cell_type": "markdown",
      "metadata": {
        "id": "UU6pPvP32rbY"
      },
      "source": [
        "# **PART D:** Train a Hugging Face Causal Language Model (Transformer) from scratch\n",
        "\n"
      ]
    },
    {
      "cell_type": "markdown",
      "metadata": {
        "id": "rjlEefth3IX0"
      },
      "source": [
        "## Initializing a new Transformer Model"
      ]
    },
    {
      "cell_type": "markdown",
      "metadata": {
        "id": "yu9Wjn223EST"
      },
      "source": [
        "\n",
        "Our first step is to freshly initialize a GPT-2 model. We’ll use the same configuration for our model as for the small GPT-2 model, so we load the pretrained configuration, make sure that the tokenizer size matches the model vocabulary size and pass the bos and eos (beginning and end of sequence) token IDs:"
      ]
    },
    {
      "cell_type": "code",
      "execution_count": null,
      "metadata": {
        "id": "9RUXSF1rvXyj"
      },
      "outputs": [],
      "source": [
        "from transformers import AutoTokenizer, TFGPT2LMHeadModel, AutoConfig\n",
        "\n",
        "config = AutoConfig.from_pretrained(\n",
        "    \"gpt2\",\n",
        "    vocab_size=len(tokenizer),\n",
        "    n_ctx=context_length,\n",
        "    bos_token_id=tokenizer.bos_token_id,\n",
        "    eos_token_id=tokenizer.eos_token_id,\n",
        ")"
      ]
    },
    {
      "cell_type": "markdown",
      "metadata": {
        "id": "9gWQQrGP3_hA"
      },
      "source": [
        "With that configuration, we can load a **new** GPT2 language model.\n",
        "\n",
        "```TFGPT2LMHeadModel``` is the GPT2 Model transformer with a language modeling head on top. For more info, visit [the Hugging Face documentation](https://huggingface.co/transformers/v3.0.2/model_doc/gpt2.html#tfgpt2lmheadmodel).\n",
        "\n",
        "**Note that** this is time we **don’t use** the ```from_pretrained()``` function, since we’re actually initializing a model ourself:"
      ]
    },
    {
      "cell_type": "code",
      "execution_count": null,
      "metadata": {
        "id": "84OF9AyTvXym"
      },
      "outputs": [],
      "source": [
        "model = TFGPT2LMHeadModel(config)\n",
        "model(model.dummy_inputs)  # Builds the model\n",
        "model.summary()"
      ]
    },
    {
      "cell_type": "markdown",
      "metadata": {
        "id": "HPOQ2JSU4U6k"
      },
      "source": [
        "Our model has 124M parameters that we’ll have to tune.\n"
      ]
    },
    {
      "cell_type": "markdown",
      "metadata": {
        "id": "FLSZdrzFzrjH"
      },
      "source": [
        "## Log in to Hugging Face Hub"
      ]
    },
    {
      "cell_type": "markdown",
      "metadata": {
        "id": "3-ppdgtJ5yUn"
      },
      "source": [
        "Now we have everything in place to actually train our model — that wasn’t so much work after all!\n",
        "\n",
        "Before we start training we should log in to Hugging Face. If you’re working in a notebook, you can do so with the following utility function:\n",
        "\n",
        "NOTE:\n",
        "* This will display a widget where you can enter your Hugging Face login credentials.\n",
        "\n",
        "* If you aren’t working in a notebook, just type the following line in your terminal: ```huggingface-cli login```"
      ]
    },
    {
      "cell_type": "code",
      "execution_count": null,
      "metadata": {
        "id": "TFtaYhPAvXys"
      },
      "outputs": [],
      "source": [
        "from huggingface_hub import notebook_login\n",
        "\n",
        "notebook_login()"
      ]
    },
    {
      "cell_type": "markdown",
      "metadata": {
        "id": "Q2ZLP4zSzrjH"
      },
      "source": [
        "## Set up the optimizer"
      ]
    },
    {
      "cell_type": "markdown",
      "metadata": {
        "id": "XqetQfRd6Shm"
      },
      "source": [
        "We’ll use a **learning rate schedule** with some warmup to improve the stability of training."
      ]
    },
    {
      "cell_type": "code",
      "execution_count": null,
      "metadata": {
        "id": "1TeFbrwXvXyt"
      },
      "outputs": [],
      "source": [
        "from transformers import create_optimizer\n",
        "import tensorflow as tf\n",
        "\n",
        "num_train_steps = len(tf_train_dataset)\n",
        "optimizer, schedule = create_optimizer(\n",
        "    init_lr=5e-5,\n",
        "    num_warmup_steps=1_000,\n",
        "    num_train_steps=num_train_steps,\n",
        "    weight_decay_rate=0.01,\n",
        ")"
      ]
    },
    {
      "cell_type": "markdown",
      "metadata": {
        "id": "d_kmif1szrjI"
      },
      "source": [
        "## Compile the model"
      ]
    },
    {
      "cell_type": "markdown",
      "metadata": {
        "id": "npI-y3_UzrjI"
      },
      "source": [
        "All that’s left to do is configure the training hyperparameters and call ```compile()```model.compile(optimizer=optimizer)"
      ]
    },
    {
      "cell_type": "code",
      "execution_count": null,
      "metadata": {
        "id": "u88WKWgQzrjI"
      },
      "outputs": [],
      "source": [
        "model.compile(optimizer=optimizer)\n",
        "\n",
        "# Train in mixed-precision float16\n",
        "tf.keras.mixed_precision.set_global_policy(\"mixed_float16\")"
      ]
    },
    {
      "cell_type": "markdown",
      "metadata": {
        "id": "5UGj3gyyzrjJ"
      },
      "source": [
        "## Train the model"
      ]
    },
    {
      "cell_type": "markdown",
      "metadata": {
        "id": "H-WcQ9_P6hiC"
      },
      "source": [
        "Now we can just call ```model.fit()``` and wait for training to finish.\n",
        "\n",
        "Depending on whether you run it on the full or a subset of the training set this will take 20 or 2 hours, respectively, so grab a few coffees and a good book to read!\n",
        "\n",
        "We can push the model and tokenizer to the Hugging Face Hub in 2 ways:\n",
        "* During training, we can push the model and tokenizer to the Hub using ```PushToHubCallback()``` method\n",
        "* After training completes, we can push the model and tokenizer to the Hub using ```push_to_hub()``` method\n",
        "\n",
        "Below, I will show both of them.\n",
        "\n",
        "**Note:** Uploading the model and tokenizer files to the Hugging Face Hub takes considerable amount of time! Therefore, you might like to train your model and test it locally and then upload to the Hugging Face Hub. If this is your choice do not use the ```PushToHubCallback()``` method, but use ```push_to_hub()``` method.  "
      ]
    },
    {
      "cell_type": "markdown",
      "metadata": {
        "id": "5w1wpyYZzrjJ"
      },
      "source": [
        "### Using ```PushToHubCallback()``` method"
      ]
    },
    {
      "cell_type": "code",
      "execution_count": null,
      "metadata": {
        "id": "y47GPWHTzrjJ"
      },
      "outputs": [],
      "source": [
        "from transformers.keras_callbacks import PushToHubCallback\n",
        "\n",
        "callback = PushToHubCallback(output_dir=\"ahmet1338/gpt-2-experimental\", tokenizer=tokenizer)"
      ]
    },
    {
      "cell_type": "code",
      "execution_count": null,
      "metadata": {
        "id": "mjzYsvSqvXyu"
      },
      "outputs": [],
      "source": [
        "model.fit(tf_train_dataset, validation_data=tf_eval_dataset, epochs=3, callbacks=[callback])"
      ]
    },
    {
      "cell_type": "markdown",
      "metadata": {
        "id": "_X1rD6V1zrjK"
      },
      "source": [
        "### Using ```push_to_hub()``` method"
      ]
    },
    {
      "cell_type": "code",
      "execution_count": null,
      "metadata": {
        "id": "anYRHnsDzrjK"
      },
      "outputs": [],
      "source": [
        "model.push_to_hub(\"ahmet1338/gpt-2-experimental\")"
      ]
    },
    {
      "cell_type": "markdown",
      "metadata": {
        "id": "Euki5t_h688P"
      },
      "source": [
        "# **PART E:** Generate Reviews with a Hugging Face Text Generation Pipeline"
      ]
    },
    {
      "cell_type": "markdown",
      "metadata": {
        "id": "YFMdB3xA67Eu"
      },
      "source": [
        "\n",
        "In this part, we will learn how to generate text by using a causal language model (*CLM*).\n",
        "Thus, we will observe how well the trained CLM model actually works. During training, we saw in the logs that the loss went down steadily, but to put the model to the test let’s take a look at how well it works on some *prompts*.\n",
        "\n",
        "\n",
        "The ***pipelines*** are a great and easy way to use models for *inference*. These pipelines are objects that abstract most of the complex code from the library, offering a simple API dedicated to several tasks, including Named Entity Recognition, Masked Language Modeling, Sentiment Analysis, Feature Extraction and Question Answering.\n",
        "\n",
        "For more info, please refer to the [Hugging Face documentation](https://huggingface.co/docs/transformers/main_classes/pipelines#pipelines)."
      ]
    },
    {
      "cell_type": "markdown",
      "metadata": {
        "id": "8YM5kdntzrjL"
      },
      "source": [
        "## Build a Pipeline"
      ]
    },
    {
      "cell_type": "markdown",
      "metadata": {
        "id": "pAGZE07ZzrjL"
      },
      "source": [
        "The ***text generation pipeline*** can be used with any ```ModelWithLMHead```. This pipeline **predicts** the words that will follow a specified text ***prompt***.\n",
        "\n",
        "The models that this pipeline can use are models that have been trained with an **autoregressive** language modeling objective, which includes the uni-directional models in the library (e.g. gpt2). See the list of available models on [the Hugging Face hub](https://huggingface.co/models?filter=text-generation).\n",
        "\n",
        "\n",
        "\n",
        "For more info about the pipeline, check [this reference here](https://huggingface.co/docs/transformers/v4.20.1/en/main_classes/pipelines#transformers.TextGenerationPipeline).\n",
        "\n",
        "We’ll wrap the model in a **text generation pipeline**, and we’ll put it on the GPU for fast generations if there is one available:"
      ]
    },
    {
      "cell_type": "code",
      "execution_count": null,
      "metadata": {
        "id": "PhNn1F5UvXyw"
      },
      "outputs": [],
      "source": [
        "from transformers import pipeline\n",
        "from transformers import AutoTokenizer, TFGPT2LMHeadModel, AutoConfig\n",
        "from datasets import load_dataset\n",
        "\n",
        "dataset = load_dataset(\"ahmetcangunay/turkishReviews-ds\", split=\"validation\")\n",
        "text_model = TFGPT2LMHeadModel.from_pretrained(\"ahmetcangunay/turkishReviews-ds\")\n",
        "text_tokenizer = AutoTokenizer.from_pretrained(\"ahmetcangunay/turkishReviews-ds\")\n",
        "\n",
        "pipe = pipeline(\n",
        "    \"text-generation\", model=text_model, tokenizer=text_tokenizer, device=0\n",
        ")"
      ]
    },
    {
      "cell_type": "markdown",
      "metadata": {
        "id": "vTLIyvIJzrjL"
      },
      "source": [
        "Let's remember the dataset structure:"
      ]
    },
    {
      "cell_type": "code",
      "execution_count": null,
      "metadata": {
        "id": "ukjFskLLzrjM"
      },
      "outputs": [],
      "source": [
        "dataset"
      ]
    },
    {
      "cell_type": "markdown",
      "metadata": {
        "id": "eY5Dt-HrzrjM"
      },
      "source": [
        "Let's get 2 text examples from the validation dataset:"
      ]
    },
    {
      "cell_type": "code",
      "execution_count": null,
      "metadata": {
        "id": "qoeouKjfzrjM"
      },
      "outputs": [],
      "source": [
        "dataset['text'][:2]"
      ]
    },
    {
      "cell_type": "markdown",
      "metadata": {
        "id": "SHv17JfHzrjM"
      },
      "source": [
        "We can construct 2 prompts using the above samples:"
      ]
    },
    {
      "cell_type": "code",
      "execution_count": null,
      "metadata": {
        "id": "SnYhFiLQzrjN"
      },
      "outputs": [],
      "source": [
        "prompts = [\"Akşamüstü yolda ilerlerken,\"]"
      ]
    },
    {
      "cell_type": "markdown",
      "metadata": {
        "id": "XFJqGBz7zrjN"
      },
      "source": [
        "Using the ***created pipeline*** above, we can get the ***generated texts*** and compare them above texts:"
      ]
    },
    {
      "cell_type": "code",
      "source": [
        "output=pipe(prompts, num_return_sequences=1)[0][0][\"generated_text\"]"
      ],
      "metadata": {
        "id": "1yZE4LDB9snR"
      },
      "execution_count": null,
      "outputs": []
    },
    {
      "cell_type": "code",
      "source": [
        "print(\"For prompt \", prompts[0], \" the generated text is:\")\n",
        "print(output)"
      ],
      "metadata": {
        "id": "C9VDerOq9zKz"
      },
      "execution_count": null,
      "outputs": []
    },
    {
      "cell_type": "markdown",
      "source": [
        "# Result"
      ],
      "metadata": {
        "id": "YPWXiAsM8Oit"
      }
    },
    {
      "cell_type": "markdown",
      "source": [
        "![sonuç.png](data:image/png;base64,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)"
      ],
      "metadata": {
        "id": "qBI1ffhc-oXM"
      }
    }
  ],
  "metadata": {
    "accelerator": "GPU",
    "colab": {
      "provenance": []
    },
    "gpuClass": "standard",
    "kernelspec": {
      "display_name": "Python 3 (ipykernel)",
      "language": "python",
      "name": "python3"
    },
    "language_info": {
      "codemirror_mode": {
        "name": "ipython",
        "version": 3
      },
      "file_extension": ".py",
      "mimetype": "text/x-python",
      "name": "python",
      "nbconvert_exporter": "python",
      "pygments_lexer": "ipython3",
      "version": "3.9.12"
    }
  },
  "nbformat": 4,
  "nbformat_minor": 0
}